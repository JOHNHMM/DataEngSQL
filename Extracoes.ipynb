{
 "cells": [
  {
   "cell_type": "markdown",
   "metadata": {},
   "source": [
    "### **Requesitos para executar o script** \n",
    "\n",
    "Instalar as  bibliotecas:\n",
    "\n",
    "* pandas \n",
    "\n",
    "* sqlite3\n",
    "\n",
    "Documentações das bibliotecas:\n",
    "\n",
    "* [pandas](https://pandas.pydata.org/)\n",
    "\n",
    "* [sqlite3](https://docs.python.org/3/library/sqlite3.html)"
   ]
  },
  {
   "cell_type": "code",
   "execution_count": null,
   "metadata": {},
   "outputs": [],
   "source": [
    "pip install pandas as pd"
   ]
  },
  {
   "cell_type": "code",
   "execution_count": null,
   "metadata": {},
   "outputs": [],
   "source": [
    "pip install sqlite3"
   ]
  },
  {
   "cell_type": "markdown",
   "metadata": {},
   "source": [
    "### **CASE 1** \n",
    "\n",
    "* Encontre a data da atividade e a pe_description das instalações com o nome STREET CHURROS  e com uma pontuação inferior a 95 pontos.\n",
    "\n",
    "**Tabela: los_angeles_restaurant_health_inspections**"
   ]
  },
  {
   "cell_type": "code",
   "execution_count": 101,
   "metadata": {},
   "outputs": [],
   "source": [
    "#Importação das bibliotecas\n",
    "\n",
    "import pandas as pd\n",
    "import sqlite3"
   ]
  },
  {
   "cell_type": "code",
   "execution_count": null,
   "metadata": {},
   "outputs": [],
   "source": [
    "# Carregar o CSV para o  DataFrame do pandas\n",
    "los_angeles_restaurant_health_inspections = pd.read_csv('./Dados/los_angeles_restaurant_health_inspections.csv', delimiter=';') \n",
    "\n",
    "# Conectar ao banco de dados SQLite em memória\n",
    "conexao = sqlite3.connect(':memory:')\n",
    "\n",
    "# Insere o DataFrame gerado em uma tabela no banco de dados\n",
    "# A função 'to_sql' cria a tabela e insere os dados automaticamente\n",
    "los_angeles_restaurant_health_inspections.to_sql('los_angeles_restaurant_health_inspections', conexao, if_exists='replace', index=False)"
   ]
  },
  {
   "cell_type": "code",
   "execution_count": 103,
   "metadata": {},
   "outputs": [],
   "source": [
    "# Consulta SQL para selecionar os dados\n",
    "\n",
    "consulta_sql = '''\n",
    "\n",
    "    SELECT activity_date, pe_description\n",
    "    FROM los_angeles_restaurant_health_inspections\n",
    "    WHERE facility_name = 'STREET CHURROS'\n",
    "      AND score < 95;\n",
    "'''\n",
    "\n",
    "# Executar a consulta e carregar o resultado em um DataFrame\n",
    "resultado_query_case_1 = pd.read_sql_query(consulta_sql, conexao)\n",
    "\n",
    "# Fecha a conexão com o banco de dados\n",
    "conexao.close()"
   ]
  },
  {
   "cell_type": "code",
   "execution_count": null,
   "metadata": {},
   "outputs": [],
   "source": [
    "resultado_query_case_1"
   ]
  },
  {
   "cell_type": "markdown",
   "metadata": {},
   "source": [
    "### **CASE 2** \n",
    "\n",
    "* Escreva uma consulta que calcule a diferença entre os maiores salários encontrados\n",
    "nos departamentos de marketing e engenharia. Exiba apenas a diferença absoluta\n",
    "entre os salários.\n",
    "\n",
    "**Tabelas: db_employee, db_dept**"
   ]
  },
  {
   "cell_type": "code",
   "execution_count": null,
   "metadata": {},
   "outputs": [],
   "source": [
    "#Carregar o CSV para o  DataFrame do pandas\n",
    "df_dept = pd.read_csv('./Dados/db_dept.csv', delimiter=';') \n",
    "df_employee = pd.read_csv('./Dados/db_employee.csv', delimiter=';')  \n",
    "\n",
    "# Conectar ao banco de dados SQLite em memória\n",
    "conexao = sqlite3.connect(':memory:')\n",
    "\n",
    "# Insere o DataFrame gerado em uma tabela no banco de dados\n",
    "# A função 'to_sql' cria a tabela e insere os dados automaticamente\n",
    "df_dept.to_sql('db_dept', conexao, if_exists='replace', index=False)\n",
    "df_employee.to_sql('db_employee', conexao, if_exists='replace', index=False)"
   ]
  },
  {
   "cell_type": "code",
   "execution_count": 106,
   "metadata": {},
   "outputs": [],
   "source": [
    "# Consulta SQL para selecionar os dados\n",
    "\n",
    "consulta_sql = '''\n",
    "   SELECT \n",
    "    ABS(MAX(CASE WHEN d.department = 'marketing' THEN e.salary END) - \n",
    "    MAX(CASE WHEN d.department = 'engineering' THEN e.salary END)) AS salary_difference\n",
    "FROM \n",
    "    db_employee e\n",
    "JOIN \n",
    "    db_dept d ON e.department_id = d.id\n",
    "WHERE \n",
    "    d.department IN ('marketing', 'engineering');\n",
    "'''\n",
    "\n",
    "# Executar a consulta e carregar o resultado em um DataFrame\n",
    "resultado_query_case_2 = pd.read_sql_query(consulta_sql, conexao)\n",
    "\n",
    "# Fecha a conexão com o banco de dados\n",
    "conexao.close()"
   ]
  },
  {
   "cell_type": "code",
   "execution_count": null,
   "metadata": {},
   "outputs": [],
   "source": [
    "resultado_query_case_2"
   ]
  },
  {
   "cell_type": "markdown",
   "metadata": {},
   "source": [
    "### **CASE 3**\n",
    "\n",
    "* Encontre os detalhes de cada cliente, independentemente de o cliente ter feito um pedido. Exiba o primeiro nome, o sobrenome e a cidade do cliente junto com os detalhes do pedido. Ordene os registros com base no primeiro nome do cliente e nos detalhes do pedido em ordem ascendente.\n",
    "\n",
    "**Tabelas: customers, orders**"
   ]
  },
  {
   "cell_type": "code",
   "execution_count": null,
   "metadata": {},
   "outputs": [],
   "source": [
    "# Carregar o CSV para o  DataFrame do pandas\n",
    "df_customers = pd.read_csv('./Dados/customers.csv', delimiter=';')\n",
    "df_orders = pd.read_csv('./Dados/orders.csv', delimiter=';') \n",
    "\n",
    "# Conectar ao banco de dados SQLite em memória\n",
    "conexao = sqlite3.connect(':memory:')\n",
    "\n",
    "# Insere o DataFrame gerado em uma tabela no banco de dados\n",
    "# A função 'to_sql' cria a tabela e insere os dados automaticamente\n",
    "df_customers.to_sql('customers', conexao, if_exists='replace', index=False)\n",
    "df_orders.to_sql('orders', conexao, if_exists='replace', index=False)"
   ]
  },
  {
   "cell_type": "code",
   "execution_count": 109,
   "metadata": {},
   "outputs": [],
   "source": [
    "# Consulta SQL para selecionar os dados\n",
    "\n",
    "consulta_sql = '''\n",
    "    SELECT \n",
    "    c.first_name,\n",
    "    c.last_name,\n",
    "    c.city,\n",
    "    o.order_details,\n",
    "    o.total_order_cost\n",
    "FROM \n",
    "    customers c\n",
    "LEFT JOIN \n",
    "    orders o ON c.id = o.cust_id\n",
    "ORDER BY \n",
    "    c.first_name ASC, \n",
    "    o.order_details ASC;\n",
    "'''\n",
    "\n",
    "# Executar a consulta e carregar o resultado em um DataFrame\n",
    "resultado_query_case_3 = pd.read_sql_query(consulta_sql, conexao)\n",
    "\n",
    "# Fecha a conexão com o banco de dados\n",
    "conexao.close()\n"
   ]
  },
  {
   "cell_type": "code",
   "execution_count": null,
   "metadata": {},
   "outputs": [],
   "source": [
    "resultado_query_case_3"
   ]
  },
  {
   "cell_type": "markdown",
   "metadata": {},
   "source": [
    "### **CASE 4**\n",
    "\n",
    "* Você recebeu um conjunto de dados que fornece o número de usuários ativos por dia por conta premium. Uma conta premium terá uma entrada para cada dia em que for premium. No entanto, uma conta premium pode ser temporariamente descontada e considerada não paga, o que é\n",
    "indicado por um valor de 0 na coluna final_price para um determinado dia. Descubra quantas contas premium pagas em um determinado dia ainda são premium e pagas 7 dias depois. Exiba a data, o número de contas premium e pagas naquele dia, e o número de quantas dessas contas ainda são premium e pagas 7 dias depois. Como você só tem dados para um período de 14 dias, inclua apenas as primeiras 7 datas disponíveis no resultado.\n",
    "\n",
    "**Tabela: premium_accounts_by_day**\n"
   ]
  },
  {
   "cell_type": "code",
   "execution_count": null,
   "metadata": {},
   "outputs": [],
   "source": [
    "# Carregar o CSV para o  DataFrame do pandas\n",
    "premium_accounts_by_day = pd.read_csv('./Dados/premium_accounts_by_day.csv', delimiter=';')\n",
    "\n",
    "# Conectar ao banco de dados SQLite em memória\n",
    "conexao = sqlite3.connect(':memory:')\n",
    "\n",
    "# Insere o DataFrame gerado em uma tabela no banco de dados\n",
    "# A função 'to_sql' cria a tabela e insere os dados automaticamente\n",
    "premium_accounts_by_day.to_sql('premium_accounts_by_day', conexao, if_exists='replace', index=False)"
   ]
  },
  {
   "cell_type": "code",
   "execution_count": 112,
   "metadata": {},
   "outputs": [],
   "source": [
    "# Consulta SQL para selecionar os dados\n",
    "\n",
    "consulta_sql = '''\n",
    "\n",
    "WITH active_accounts AS (\n",
    "    SELECT \n",
    "        entry_date,\n",
    "        account_id,\n",
    "        final_price\n",
    "    FROM \n",
    "        premium_accounts_by_day\n",
    "    WHERE \n",
    "        final_price > 0\n",
    "),\n",
    "\n",
    "-- Subconsulta para obter contas ativas 7 dias depois\n",
    "\n",
    "accounts_seven_days_later AS (\n",
    "    SELECT \n",
    "        a1.entry_date AS data_atual,\n",
    "        COUNT(DISTINCT a1.account_id) AS contas_pagas_ativas,\n",
    "        COUNT(DISTINCT a2.account_id) AS contas_pagas_ativas_sete_dias_depois\n",
    "    FROM \n",
    "        active_accounts a1\n",
    "    LEFT JOIN \n",
    "        active_accounts a2 \n",
    "    ON \n",
    "        a1.account_id = a2.account_id \n",
    "        AND a2.entry_date = DATE(a1.entry_date, '+7 days')\n",
    "    GROUP BY \n",
    "        a1.entry_date\n",
    ")\n",
    "\n",
    "-- Seleciona apenas as primeiras 7 datas disponíveis\n",
    "SELECT \n",
    "    data_atual,\n",
    "    contas_pagas_ativas,\n",
    "    contas_pagas_ativas_sete_dias_depois\n",
    "FROM \n",
    "    accounts_seven_days_later\n",
    "ORDER BY \n",
    "    data_atual\n",
    "LIMIT 7;\n",
    "\n",
    "'''\n",
    "\n",
    "# Executar a consulta e carregar o resultado em um DataFrame\n",
    "resultado_query_case_4 = pd.read_sql_query(consulta_sql, conexao)\n",
    "\n",
    "# Fecha a conexão com o banco de dados\n",
    "conexao.close()"
   ]
  },
  {
   "cell_type": "code",
   "execution_count": null,
   "metadata": {},
   "outputs": [],
   "source": [
    "resultado_query_case_4"
   ]
  },
  {
   "cell_type": "markdown",
   "metadata": {},
   "source": [
    "### **CASE 5** \n",
    "\n",
    "* Encontre a taxa de retenção mensal de usuários para cada conta separadamente para dezembro de 2020 e janeiro de 2021. A taxa de retenção é a porcentagem de usuários ativos que uma conta retém durante um determinado período de tempo. Neste caso, assuma que o usuário é retido se ele/ela permanecer usando o aplicativo em qualquer mês futuro. Por exemplo, se um usuário esteve ativo em dezembro de 2020 e tem\n",
    "atividade em qualquer mês futuro, considere-o retido para dezembro. Você pode assumir que todas as contas estão presentes em dezembro de 2020 e janeiro de 2021.\n",
    "Sua saída deve conter o ID da conta e a taxa de retenção de janeiro de 2021 dividida pela taxa de retenção de dezembro de 2020.\n",
    "\n",
    "**Tabela: sf_events**"
   ]
  },
  {
   "cell_type": "code",
   "execution_count": null,
   "metadata": {},
   "outputs": [],
   "source": [
    "# Carregar o CSV para o  DataFrame do pandas\n",
    "sf_events = pd.read_csv('Dados/sf_events.csv', delimiter=';')\n",
    "\n",
    "# Converte a coluna 'date' para datetime\n",
    "sf_events['date'] = pd.to_datetime(sf_events['date'], format='%d/%m/%Y')\n",
    "\n",
    "# Conectar ao banco de dados SQLite em memória\n",
    "conexao = sqlite3.connect(':memory:')\n",
    "\n",
    "# Insere o DataFrame gerado em uma tabela no banco de dados\n",
    "# A função 'to_sql' cria a tabela e insere os dados automaticamente\n",
    "sf_events.to_sql('user_activity', conexao, index=False, if_exists='replace')"
   ]
  },
  {
   "cell_type": "code",
   "execution_count": 115,
   "metadata": {},
   "outputs": [],
   "source": [
    "# Consulta SQL para selecionar os dados\n",
    "consulta_sql = '''\n",
    "WITH users_dec_2020 AS (\n",
    "    SELECT DISTINCT user_id, account_id\n",
    "    FROM user_activity\n",
    "    WHERE date >= '2020-12-01' AND date < '2021-01-01'\n",
    "),\n",
    "\n",
    "users_jan_2021 AS (\n",
    "    SELECT DISTINCT user_id, account_id\n",
    "    FROM user_activity\n",
    "    WHERE date >= '2021-01-01' AND date < '2021-02-01'\n",
    ")\n",
    "\n",
    "SELECT \n",
    "    a.account_id,\n",
    "    COUNT(DISTINCT u_dec.user_id) AS total_users_dec_2020,\n",
    "    COUNT(DISTINCT u_jan.user_id) AS retained_users_jan_2021,\n",
    "    COUNT(DISTINCT u_jan.user_id) * 1.0 / NULLIF(COUNT(DISTINCT u_dec.user_id), 0) AS retention_rate_jan_2021,\n",
    "    COUNT(DISTINCT u_jan.user_id) * 1.0 / NULLIF(COUNT(DISTINCT u_dec.user_id), 0) / NULLIF(COUNT(DISTINCT u_dec.user_id) * 1.0 / NULLIF(COUNT(DISTINCT u_dec.user_id), 0), 0) AS retention_ratio\n",
    "FROM \n",
    "    users_dec_2020 u_dec\n",
    "LEFT JOIN \n",
    "    users_jan_2021 u_jan ON u_dec.user_id = u_jan.user_id AND u_dec.account_id = u_jan.account_id\n",
    "JOIN \n",
    "    (SELECT DISTINCT account_id FROM user_activity WHERE date >= '2020-12-01' AND date < '2021-02-01') a ON u_dec.account_id = a.account_id\n",
    "GROUP BY \n",
    "    a.account_id;\n",
    "\n",
    "'''\n",
    "\n",
    "# Executar a consulta e carregar o resultado em um DataFrame\n",
    "resultado_query_case_5 = pd.read_sql_query(consulta_sql, conexao)\n",
    "\n",
    "# Fecha a conexão com o banco de dados\n",
    "conexao.close()\n",
    "\n",
    "\n"
   ]
  },
  {
   "cell_type": "code",
   "execution_count": null,
   "metadata": {},
   "outputs": [],
   "source": [
    "resultado_query_case_5"
   ]
  },
  {
   "cell_type": "markdown",
   "metadata": {},
   "source": [
    "### **CASE 6** \n",
    "\n",
    "* Selecione o client_id mais popular com base na contagem do número de usuários que têm pelo menos 50% de seus eventos da seguinte lista: &#39;video call received&#39;, &#39;video call sent&#39;, &#39;voice call\n",
    "received&#39;, &#39;voice call sent&#39;.\n",
    "\n",
    "**Tabela: fact_events**"
   ]
  },
  {
   "cell_type": "code",
   "execution_count": 117,
   "metadata": {},
   "outputs": [],
   "source": [
    "# Carregar o CSV para o  DataFrame do pandas\n",
    "fact_events = pd.read_csv('./Dados/fact_events.csv', delimiter=';') \n",
    "\n",
    "# Conectar ao banco de dados SQLite em memória\n",
    "conexao = sqlite3.connect(':memory:')\n",
    "\n",
    "# Insere o DataFrame gerado em uma tabela no banco de dados\n",
    "# A função 'to_sql' cria a tabela e insere os dados automaticamente\n",
    "fact_events.to_sql('fact_events', conexao, if_exists='replace', index=False)\n",
    "\n",
    "# Definir a lista de tipos de eventos\n",
    "event_types = [\n",
    "    'video call received',\n",
    "    'video call sent',\n",
    "    'voice call received',\n",
    "    'voice call sent'\n",
    "]\n",
    "\n",
    "# Formatar a lista de tipos de eventos para SQL\n",
    "event_types_sql = ', '.join(f\"'{event}'\" for event in event_types)\n"
   ]
  },
  {
   "cell_type": "code",
   "execution_count": 118,
   "metadata": {},
   "outputs": [],
   "source": [
    "# Consulta SQL para selecionar os dados\n",
    "\n",
    "consulta_sql = f\"\"\"\n",
    "WITH UserEventCounts AS (\n",
    "    SELECT user_id,\n",
    "           COUNT(*) AS total_events,\n",
    "           SUM(CASE WHEN event_type IN ({event_types_sql}) THEN 1 ELSE 0 END) AS filtered_events\n",
    "    FROM fact_events\n",
    "    GROUP BY user_id\n",
    "),\n",
    "FilteredUsers AS (\n",
    "    SELECT user_id\n",
    "    FROM UserEventCounts\n",
    "    WHERE (filtered_events * 1.0 / total_events) >= 0.5\n",
    ")\n",
    "SELECT client_id, COUNT(DISTINCT user_id) AS user_count\n",
    "FROM fact_events\n",
    "WHERE user_id IN (SELECT user_id FROM FilteredUsers)\n",
    "GROUP BY client_id\n",
    "ORDER BY user_count DESC\n",
    "LIMIT 1;\n",
    "\"\"\"\n",
    "\n",
    "# Executar a consulta e armazenar o resultado em um DataFrame\n",
    "resultado_query_case_6 = pd.read_sql_query(consulta_sql, conexao)\n",
    "\n",
    "# Fechar a conexão\n",
    "conexao.close()"
   ]
  },
  {
   "cell_type": "code",
   "execution_count": null,
   "metadata": {},
   "outputs": [],
   "source": [
    "resultado_query_case_6"
   ]
  }
 ],
 "metadata": {
  "kernelspec": {
   "display_name": "Python 3",
   "language": "python",
   "name": "python3"
  },
  "language_info": {
   "codemirror_mode": {
    "name": "ipython",
    "version": 3
   },
   "file_extension": ".py",
   "mimetype": "text/x-python",
   "name": "python",
   "nbconvert_exporter": "python",
   "pygments_lexer": "ipython3",
   "version": "3.11.9"
  }
 },
 "nbformat": 4,
 "nbformat_minor": 2
}
